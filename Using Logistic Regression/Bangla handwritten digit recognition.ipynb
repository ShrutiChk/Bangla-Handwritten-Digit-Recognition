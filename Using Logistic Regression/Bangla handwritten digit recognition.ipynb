{
  "nbformat": 4,
  "nbformat_minor": 0,
  "metadata": {
    "colab": {
      "name": "160204065_Problem#1.ipynb",
      "provenance": [],
      "collapsed_sections": []
    },
    "kernelspec": {
      "name": "python3",
      "display_name": "Python 3"
    },
    "accelerator": "GPU"
  },
  "cells": [
    {
      "cell_type": "markdown",
      "metadata": {
        "id": "la9EDK9lfpfX"
      },
      "source": [
        "# Problem : 01 : Bangla Handwritten digit recognition"
      ]
    },
    {
      "cell_type": "markdown",
      "metadata": {
        "id": "ZneFccpUf0-I"
      },
      "source": [
        "In problem 1 we used **\"NamtaDB**\" dataset to identify Bangla handwritten digits from 0 to 9. Here only **logistic regression** is used to build a multiclassification model of supervised learning. \r\n",
        "\r\n",
        "**NumtaDB samples example**\r\n",
        "\r\n",
        "<div align=\"center\">\r\n",
        "<img src=\"https://drive.google.com/uc?id=1LvkNwV1My2RniR_JsbasBET1fa97eMQu\" width=\"500\">\r\n",
        "</div>\r\n",
        "\r\n",
        "- **Input dimension:**\r\n",
        "  - Size of image: $28 \\times 28 = 784$\r\n",
        "\r\n",
        "- **Output dimension: 10**\r\n",
        "  - 0, 1, 2, 3, 4, 5, 6, 7, 8, 9\r\n",
        "\r\n",
        "The NamtaDB dataset has total of **60k** data samples. Then the dataset is divided into **90:10** = train : test set using sckitlearn library. \r\n",
        "\r\n",
        "For this particular problem we have used *different hyperparameters* like - batch size, number of iterations, learning rate , optimizer etc to get the best results. The combination of hyperparameters and their acquired accuracy is given below - \r\n",
        "\r\n",
        "| Hyperparameters| Setting 1| Setting 2  | Setting 3 | Setting 4  |Setting 5 |\r\n",
        "| :-------------:| :------: | :--------: | :-------: | :--------: | :-------:|\r\n",
        "| Batch size     |    100   |    64      |    50     |    256     |    256   |\r\n",
        "| No. of iterations|  3000  |    3000    |    3000   |    4000    |    4000  |\r\n",
        "| Epoch          |    5.46  |    3.49    |    2.73   |    18.64   |    18.64 |\r\n",
        "| Learning Rate  |    0.001 |    0.002   |    0.002  |    0.002   |    0.005 |\r\n",
        "| Optimizer      |    SGD   |    SGD     |    SGD    |    SGD     |   Adamax |\r\n",
        "| ***Accuracy*** |   20.324 |    25.532  |    30.340 |    28.246  |   44.418 |\r\n",
        "\r\n",
        "                                                    Table : Results of different hyperparameters. \r\n",
        "\r\n",
        "![picture](https://drive.google.com/uc?id=1-gDPp3qjOKxKYy96bbZjS_4K4rC_iTu7)![picture](https://drive.google.com/uc?id=1iyIXfgZRNVvjI4MtznJnBIz_JwA8_wLQ)![picture](https://drive.google.com/uc?id=1By_sgETX0gEojhRpGLTD6si0I3qj7F4B)![picture](https://drive.google.com/uc?id=1By_sgETX0gEojhRpGLTD6si0I3qj7F4B)![picture](https://drive.google.com/uc?id=1wlASMJ1k2wj9SmD_rGRwv2eVk0FFqSH8)\r\n",
        "\r\n",
        "\r\n",
        "                      Figure: Loss graphs for different settings.  \r\n",
        "\r\n",
        "In this problem different hyperparameter setup is used to see the **effect** of hyperparameters on the results of model which we can see in the above table. \r\n",
        "\r\n",
        "**Setting-1** has basic setup of hyperparameters. The batch size is **100** with **3000** iterations and **5.46** epochs. The learning rate is starting at **0.001** and **SGD** optimizer is used. The model has an accuracy of **20.324** which is not quite satisfying. \r\n",
        "\r\n",
        "In **Setting-2** I have decreased the batch size to **64** and increased the learning rate to **0.002** to make the model *learn* faster. Other settings are same and the accuracy result is increased by nearly 5% which is **25.523** for **2.73** epochs.  The **cross entropy loss** is also decreased compared to setting 1.\r\n",
        "\r\n",
        "**Setting-3** is with the same setup as setting-2 but I have tried to decrease the batch size more and it is **50**. This increases the accuracy to **30.340**. This shows that smaller batch size ensures start learning faster by small steps. This setting shows nearly same loss as setting-2. \r\n",
        "\r\n",
        "After decreasing the batch size more the model performs poor. So in this **Setting -4** the batch size is increased to **256** and the number of iterations is also increased to **4000** with 18.64 epochs. But the accuracy decreases to **28.246** . \r\n",
        "\r\n",
        "To improve the setting-4 we have increased the learning rate to **0.005** in **Setting-5** and changed the optimizer. The **Adamax** optimizer is used and the model gives an accuracy of **44.418** for **18.64** epochs. \r\n",
        "The loss is also decreased for setting-4 and 5. If the learning rate is increased more the results are nearly same. The case is same for optimizers. \r\n",
        "\r\n",
        "So we can come to a conclusion that with proper tuning of the hyperparameters this multiclassification model with logistic regression can perform better. "
      ]
    },
    {
      "cell_type": "markdown",
      "metadata": {
        "id": "PFX4YVjzCoNo"
      },
      "source": [
        "##Implementation :"
      ]
    },
    {
      "cell_type": "code",
      "metadata": {
        "colab": {
          "base_uri": "https://localhost:8080/"
        },
        "id": "GKxVJQr3O6Jr",
        "outputId": "d2c3e697-407f-4fbc-bf5e-eb799277bde8"
      },
      "source": [
        "import torch\r\n",
        "import torch.nn as nn\r\n",
        "import torch.nn.functional as F\r\n",
        "import torchvision\r\n",
        "import torchvision.transforms as transforms\r\n",
        "import pandas as pd \r\n",
        "import numpy as np\r\n",
        "import matplotlib.pyplot as plt \r\n",
        "from sklearn.model_selection import train_test_split\r\n",
        "import PIL\r\n",
        "from google.colab import drive\r\n",
        "drive.mount('/drive')"
      ],
      "execution_count": null,
      "outputs": [
        {
          "output_type": "stream",
          "text": [
            "Mounted at /drive\n"
          ],
          "name": "stdout"
        }
      ]
    },
    {
      "cell_type": "code",
      "metadata": {
        "colab": {
          "resources": {
            "http://localhost:8080/nbextensions/google.colab/files.js": {
              "data": "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",
              "ok": true,
              "headers": [
                [
                  "content-type",
                  "application/javascript"
                ]
              ],
              "status": 200,
              "status_text": ""
            }
          },
          "base_uri": "https://localhost:8080/",
          "height": 73
        },
        "id": "d8_ycP8RSqwX",
        "outputId": "844e5038-22d0-47fa-d19c-b5f3cbdf97ec"
      },
      "source": [
        "# Colab library to upload files to notebook\r\n",
        "from google.colab import files\r\n",
        "\r\n",
        "# Install Kaggle library\r\n",
        "!pip install -q kaggle\r\n",
        "\r\n",
        "\r\n",
        "# Upload kaggle API key file\r\n",
        "uploaded = files.upload()"
      ],
      "execution_count": null,
      "outputs": [
        {
          "output_type": "display_data",
          "data": {
            "text/html": [
              "\n",
              "     <input type=\"file\" id=\"files-5f0a602f-283b-412b-9268-75af54954e6f\" name=\"files[]\" multiple disabled\n",
              "        style=\"border:none\" />\n",
              "     <output id=\"result-5f0a602f-283b-412b-9268-75af54954e6f\">\n",
              "      Upload widget is only available when the cell has been executed in the\n",
              "      current browser session. Please rerun this cell to enable.\n",
              "      </output>\n",
              "      <script src=\"/nbextensions/google.colab/files.js\"></script> "
            ],
            "text/plain": [
              "<IPython.core.display.HTML object>"
            ]
          },
          "metadata": {
            "tags": []
          }
        },
        {
          "output_type": "stream",
          "text": [
            "Saving kaggle.json to kaggle.json\n"
          ],
          "name": "stdout"
        }
      ]
    },
    {
      "cell_type": "code",
      "metadata": {
        "colab": {
          "base_uri": "https://localhost:8080/"
        },
        "id": "32W4blrbVlLs",
        "outputId": "99634d40-b894-411f-edfa-a83f8ef55bd1"
      },
      "source": [
        "!mkdir -p ~/.kaggle\r\n",
        "!cp kaggle.json ~/.kaggle/\r\n",
        "!ls ~/.kaggle\r\n",
        "!chmod 600 /root/.kaggle/kaggle.json\r\n",
        "\r\n",
        "!kaggle datasets download -d BengaliAI/numta"
      ],
      "execution_count": null,
      "outputs": [
        {
          "output_type": "stream",
          "text": [
            "kaggle.json\n",
            "Downloading numta.zip to /content\n",
            "100% 1.91G/1.91G [00:17<00:00, 41.0MB/s]\n",
            "100% 1.91G/1.91G [00:17<00:00, 116MB/s] \n"
          ],
          "name": "stdout"
        }
      ]
    },
    {
      "cell_type": "code",
      "metadata": {
        "id": "5U4InCXmWe01"
      },
      "source": [
        "!mkdir numtaDB\r\n",
        "!unzip -q numta.zip -d numtaDB"
      ],
      "execution_count": null,
      "outputs": []
    },
    {
      "cell_type": "code",
      "metadata": {
        "colab": {
          "base_uri": "https://localhost:8080/",
          "height": 195
        },
        "id": "e2p8ttR5a5n2",
        "outputId": "ea9fa2b2-3db3-42e8-da97-ebb3f6a7fa25"
      },
      "source": [
        "a_csv = pd.read_csv('numtaDB/training-a.csv', usecols=['filename','digit'])\r\n",
        "b_csv = pd.read_csv('numtaDB/training-b.csv', usecols=['filename','digit'])\r\n",
        "c_csv = pd.read_csv('numtaDB/training-c.csv', usecols=['filename','digit'])\r\n",
        "d_csv = pd.read_csv('numtaDB/training-d.csv', usecols=['filename','digit'])\r\n",
        "e_csv = pd.read_csv('numtaDB/training-e.csv', usecols=['filename','digit'])\r\n",
        "a_csv.head()"
      ],
      "execution_count": null,
      "outputs": [
        {
          "output_type": "execute_result",
          "data": {
            "text/html": [
              "<div>\n",
              "<style scoped>\n",
              "    .dataframe tbody tr th:only-of-type {\n",
              "        vertical-align: middle;\n",
              "    }\n",
              "\n",
              "    .dataframe tbody tr th {\n",
              "        vertical-align: top;\n",
              "    }\n",
              "\n",
              "    .dataframe thead th {\n",
              "        text-align: right;\n",
              "    }\n",
              "</style>\n",
              "<table border=\"1\" class=\"dataframe\">\n",
              "  <thead>\n",
              "    <tr style=\"text-align: right;\">\n",
              "      <th></th>\n",
              "      <th>filename</th>\n",
              "      <th>digit</th>\n",
              "    </tr>\n",
              "  </thead>\n",
              "  <tbody>\n",
              "    <tr>\n",
              "      <th>0</th>\n",
              "      <td>a00000.png</td>\n",
              "      <td>5</td>\n",
              "    </tr>\n",
              "    <tr>\n",
              "      <th>1</th>\n",
              "      <td>a00001.png</td>\n",
              "      <td>3</td>\n",
              "    </tr>\n",
              "    <tr>\n",
              "      <th>2</th>\n",
              "      <td>a00002.png</td>\n",
              "      <td>1</td>\n",
              "    </tr>\n",
              "    <tr>\n",
              "      <th>3</th>\n",
              "      <td>a00003.png</td>\n",
              "      <td>7</td>\n",
              "    </tr>\n",
              "    <tr>\n",
              "      <th>4</th>\n",
              "      <td>a00004.png</td>\n",
              "      <td>0</td>\n",
              "    </tr>\n",
              "  </tbody>\n",
              "</table>\n",
              "</div>"
            ],
            "text/plain": [
              "     filename  digit\n",
              "0  a00000.png      5\n",
              "1  a00001.png      3\n",
              "2  a00002.png      1\n",
              "3  a00003.png      7\n",
              "4  a00004.png      0"
            ]
          },
          "metadata": {
            "tags": []
          },
          "execution_count": 5
        }
      ]
    },
    {
      "cell_type": "code",
      "metadata": {
        "colab": {
          "base_uri": "https://localhost:8080/"
        },
        "id": "jPcLuPNlegfS",
        "outputId": "83fbc513-3924-4326-bcab-32854ea6509c"
      },
      "source": [
        "frames = [a_csv,c_csv,d_csv]\r\n",
        "dataset = pd.concat(frames,ignore_index=True)\r\n",
        "print(len(dataset))"
      ],
      "execution_count": null,
      "outputs": [
        {
          "output_type": "stream",
          "text": [
            "54908\n"
          ],
          "name": "stdout"
        }
      ]
    },
    {
      "cell_type": "code",
      "metadata": {
        "colab": {
          "base_uri": "https://localhost:8080/",
          "height": 195
        },
        "id": "3dEEfXVeWPoy",
        "outputId": "ee342637-56b6-4d04-d0fe-296df0926d56"
      },
      "source": [
        "dataset.head()"
      ],
      "execution_count": null,
      "outputs": [
        {
          "output_type": "execute_result",
          "data": {
            "text/html": [
              "<div>\n",
              "<style scoped>\n",
              "    .dataframe tbody tr th:only-of-type {\n",
              "        vertical-align: middle;\n",
              "    }\n",
              "\n",
              "    .dataframe tbody tr th {\n",
              "        vertical-align: top;\n",
              "    }\n",
              "\n",
              "    .dataframe thead th {\n",
              "        text-align: right;\n",
              "    }\n",
              "</style>\n",
              "<table border=\"1\" class=\"dataframe\">\n",
              "  <thead>\n",
              "    <tr style=\"text-align: right;\">\n",
              "      <th></th>\n",
              "      <th>filename</th>\n",
              "      <th>digit</th>\n",
              "    </tr>\n",
              "  </thead>\n",
              "  <tbody>\n",
              "    <tr>\n",
              "      <th>0</th>\n",
              "      <td>a00000.png</td>\n",
              "      <td>5</td>\n",
              "    </tr>\n",
              "    <tr>\n",
              "      <th>1</th>\n",
              "      <td>a00001.png</td>\n",
              "      <td>3</td>\n",
              "    </tr>\n",
              "    <tr>\n",
              "      <th>2</th>\n",
              "      <td>a00002.png</td>\n",
              "      <td>1</td>\n",
              "    </tr>\n",
              "    <tr>\n",
              "      <th>3</th>\n",
              "      <td>a00003.png</td>\n",
              "      <td>7</td>\n",
              "    </tr>\n",
              "    <tr>\n",
              "      <th>4</th>\n",
              "      <td>a00004.png</td>\n",
              "      <td>0</td>\n",
              "    </tr>\n",
              "  </tbody>\n",
              "</table>\n",
              "</div>"
            ],
            "text/plain": [
              "     filename  digit\n",
              "0  a00000.png      5\n",
              "1  a00001.png      3\n",
              "2  a00002.png      1\n",
              "3  a00003.png      7\n",
              "4  a00004.png      0"
            ]
          },
          "metadata": {
            "tags": []
          },
          "execution_count": 7
        }
      ]
    },
    {
      "cell_type": "code",
      "metadata": {
        "colab": {
          "base_uri": "https://localhost:8080/"
        },
        "id": "2hgab7a4fuqx",
        "outputId": "a0e1aa1b-48ab-49bd-c4f7-a42d714ea75a"
      },
      "source": [
        "!mkdir numtaDBDataset\r\n",
        "\r\n",
        "import shutil\r\n",
        "import os\r\n",
        "from os import path\r\n",
        "def completeDataset(folder_name):\r\n",
        "  src = 'numtaDB/' + folder_name + '/'\r\n",
        "  dir_folders = os.listdir(src)\r\n",
        "  for dir_name in dir_folders:\r\n",
        "    file_name = os.path.join(src, dir_name)\r\n",
        "    if os.path.isfile(file_name):\r\n",
        "      shutil.copy(file_name, 'numtaDBDataset')  \r\n",
        "      \r\n",
        "completeDataset('training-a')\r\n",
        "print('A Done')\r\n",
        "completeDataset('training-b')\r\n",
        "print('B Done')\r\n",
        "completeDataset('training-c')\r\n",
        "print('C Done')\r\n",
        "completeDataset('training-d')\r\n",
        "print('D Done')\r\n",
        "completeDataset('training-e')\r\n",
        "print('E Done')"
      ],
      "execution_count": null,
      "outputs": [
        {
          "output_type": "stream",
          "text": [
            "A Done\n",
            "B Done\n",
            "C Done\n",
            "D Done\n",
            "E Done\n"
          ],
          "name": "stdout"
        }
      ]
    },
    {
      "cell_type": "code",
      "metadata": {
        "id": "aXe2U3VJ4yXx"
      },
      "source": [
        "train_transform = transforms.Compose([\r\n",
        "    transforms.Resize(28),\r\n",
        "    transforms.ToTensor(),\r\n",
        "    transforms.Normalize(0.5, 0.5)\r\n",
        "])"
      ],
      "execution_count": null,
      "outputs": []
    },
    {
      "cell_type": "code",
      "metadata": {
        "id": "jlFiZ0S5kawe"
      },
      "source": [
        "class CustomDataset(torch.utils.data.Dataset):\r\n",
        "    def __init__(self, df, images_folder, transform = None):\r\n",
        "        self.df = df\r\n",
        "        self.images_folder = images_folder\r\n",
        "        self.transform = transform\r\n",
        "        \r\n",
        "\r\n",
        "    def __len__(self):\r\n",
        "        return len(self.df)\r\n",
        "    def __getitem__(self, index):\r\n",
        "        filename = self.df['filename'][index]\r\n",
        "        label = self.df['digit'][index]\r\n",
        "        image = PIL.Image.open(os.path.join(self.images_folder, filename)).convert('L')\r\n",
        "        if self.transform is not None:\r\n",
        "            image = self.transform(image)\r\n",
        "        return image, label\r\n",
        "        "
      ],
      "execution_count": null,
      "outputs": []
    },
    {
      "cell_type": "code",
      "metadata": {
        "colab": {
          "base_uri": "https://localhost:8080/"
        },
        "id": "_nV_VOm4u87y",
        "outputId": "eb0e4216-e428-4605-e469-e6b4371e32ca"
      },
      "source": [
        "fullDataset = CustomDataset(dataset, 'numtaDBDataset',train_transform)\r\n",
        "\r\n",
        "print(len(fullDataset))"
      ],
      "execution_count": null,
      "outputs": [
        {
          "output_type": "stream",
          "text": [
            "54908\n"
          ],
          "name": "stdout"
        }
      ]
    },
    {
      "cell_type": "code",
      "metadata": {
        "colab": {
          "base_uri": "https://localhost:8080/"
        },
        "id": "fixuslWyw3F4",
        "outputId": "665c3557-d7cd-4427-9524-6ced965a3454"
      },
      "source": [
        "fullDataset[0]"
      ],
      "execution_count": null,
      "outputs": [
        {
          "output_type": "execute_result",
          "data": {
            "text/plain": [
              "(tensor([[[ 0.6392,  0.6392,  0.6392,  0.6392,  0.6471,  0.6392,  0.6392,\n",
              "            0.6471,  0.6392,  0.6392,  0.6471,  0.6392,  0.6314,  0.6314,\n",
              "            0.6392,  0.6314,  0.6235,  0.6314,  0.6392,  0.6314,  0.6314,\n",
              "            0.6314,  0.6392,  0.6392,  0.6471,  0.6471,  0.6471,  0.6471],\n",
              "          [ 0.6471,  0.6471,  0.6471,  0.6471,  0.6471,  0.6471,  0.6471,\n",
              "            0.6471,  0.6471,  0.6471,  0.6392,  0.6392,  0.6392,  0.6392,\n",
              "            0.6314,  0.6314,  0.6314,  0.6314,  0.6392,  0.6392,  0.6471,\n",
              "            0.6471,  0.6392,  0.6392,  0.6392,  0.6392,  0.6392,  0.6471],\n",
              "          [ 0.6471,  0.6471,  0.6471,  0.6471,  0.6471,  0.6549,  0.6549,\n",
              "            0.6471,  0.6549,  0.6471,  0.6392,  0.6471,  0.6471,  0.6392,\n",
              "            0.6392,  0.6392,  0.6314,  0.6314,  0.6392,  0.6392,  0.6392,\n",
              "            0.6392,  0.6392,  0.6392,  0.6392,  0.6314,  0.6471,  0.6471],\n",
              "          [ 0.6471,  0.6549,  0.6549,  0.6549,  0.6549,  0.6549,  0.6549,\n",
              "            0.6549,  0.6549,  0.6471,  0.6549,  0.6549,  0.6627,  0.6471,\n",
              "            0.6549,  0.6471,  0.6471,  0.6549,  0.6549,  0.6549,  0.6471,\n",
              "            0.6392,  0.6471,  0.6471,  0.6471,  0.6471,  0.6471,  0.6471],\n",
              "          [ 0.6549,  0.6549,  0.6549,  0.6549,  0.6549,  0.6549,  0.6549,\n",
              "            0.6549,  0.6549,  0.6549,  0.6549,  0.6549,  0.6549,  0.6549,\n",
              "            0.6549,  0.6549,  0.6549,  0.6471,  0.6549,  0.6549,  0.6549,\n",
              "            0.6549,  0.6549,  0.6549,  0.6471,  0.6471,  0.6392,  0.6471],\n",
              "          [ 0.6549,  0.6627,  0.6627,  0.6549,  0.6549,  0.6549,  0.6549,\n",
              "            0.4902,  0.4902,  0.6549,  0.6627,  0.6627,  0.6627,  0.6549,\n",
              "            0.6549,  0.6549,  0.6549,  0.6549,  0.6549,  0.6549,  0.6549,\n",
              "            0.6471,  0.6471,  0.6471,  0.6471,  0.6471,  0.6471,  0.6471],\n",
              "          [ 0.6627,  0.6706,  0.6627,  0.6627,  0.6627,  0.6549,  0.5529,\n",
              "            0.0902,  0.2000,  0.6314,  0.6549,  0.6627,  0.6627,  0.6627,\n",
              "            0.6549,  0.6549,  0.6549,  0.6549,  0.6627,  0.6549,  0.6549,\n",
              "            0.6471,  0.6471,  0.6471,  0.6549,  0.6549,  0.6549,  0.6471],\n",
              "          [ 0.6627,  0.6627,  0.6627,  0.6549,  0.6549,  0.6235,  0.2627,\n",
              "            0.1765,  0.0431,  0.5294,  0.6471,  0.6471,  0.6627,  0.6392,\n",
              "            0.6157,  0.6549,  0.6549,  0.6549,  0.6627,  0.6549,  0.6627,\n",
              "            0.6627,  0.6549,  0.6549,  0.6471,  0.6471,  0.6392,  0.6549],\n",
              "          [ 0.6549,  0.6549,  0.6549,  0.6471,  0.6392,  0.4824,  0.1686,\n",
              "            0.4980,  0.1451,  0.2941,  0.6078,  0.6392,  0.6392,  0.3804,\n",
              "            0.2549,  0.6235,  0.6549,  0.6549,  0.6549,  0.6549,  0.6549,\n",
              "            0.6471,  0.6549,  0.6549,  0.6549,  0.6549,  0.6471,  0.6549],\n",
              "          [ 0.6471,  0.6549,  0.6549,  0.6471,  0.6078,  0.2392,  0.3647,\n",
              "            0.6157,  0.5059,  0.1529,  0.2314,  0.4039,  0.4667,  0.1137,\n",
              "            0.1137,  0.5216,  0.5922,  0.6314,  0.6471,  0.6471,  0.6471,\n",
              "            0.6471,  0.6549,  0.6549,  0.6471,  0.6549,  0.6549,  0.6549],\n",
              "          [ 0.6392,  0.6392,  0.6392,  0.6314,  0.4902,  0.0980,  0.5137,\n",
              "            0.6235,  0.6314,  0.5765,  0.3961,  0.2235,  0.1294, -0.1373,\n",
              "           -0.0667,  0.1686,  0.4039,  0.6235,  0.6314,  0.6314,  0.6392,\n",
              "            0.6392,  0.6392,  0.6471,  0.6471,  0.6392,  0.6471,  0.6471],\n",
              "          [ 0.6471,  0.6392,  0.6392,  0.6235,  0.2941,  0.2235,  0.6078,\n",
              "            0.6314,  0.6314,  0.6235,  0.6157,  0.6000,  0.4431, -0.0980,\n",
              "            0.2392,  0.5451,  0.6000,  0.6235,  0.6314,  0.6235,  0.6392,\n",
              "            0.6392,  0.6392,  0.6392,  0.6471,  0.6392,  0.6392,  0.6471],\n",
              "          [ 0.6392,  0.6392,  0.6314,  0.6078,  0.1529,  0.2784,  0.6157,\n",
              "            0.6235,  0.6235,  0.6235,  0.6235,  0.6157,  0.3961, -0.0510,\n",
              "            0.4275,  0.5608,  0.6157,  0.6235,  0.6314,  0.6314,  0.6392,\n",
              "            0.6392,  0.6392,  0.6392,  0.6471,  0.6471,  0.6471,  0.6471],\n",
              "          [ 0.6314,  0.6392,  0.6314,  0.5843,  0.0588,  0.3333,  0.6078,\n",
              "            0.6157,  0.6157,  0.6157,  0.6157,  0.6000,  0.3569,  0.0510,\n",
              "            0.5608,  0.6157,  0.6235,  0.6235,  0.6235,  0.6235,  0.6314,\n",
              "            0.6314,  0.6392,  0.6392,  0.6392,  0.6392,  0.6392,  0.6392],\n",
              "          [ 0.6392,  0.6314,  0.6235,  0.5765,  0.0353,  0.1922,  0.6000,\n",
              "            0.6078,  0.6000,  0.6000,  0.6078,  0.6078,  0.3176,  0.0667,\n",
              "            0.5608,  0.6000,  0.5922,  0.6000,  0.6078,  0.5843,  0.5922,\n",
              "            0.6235,  0.6314,  0.6314,  0.6314,  0.6314,  0.6392,  0.6314],\n",
              "          [ 0.6392,  0.6314,  0.6314,  0.6000,  0.1922,  0.0667,  0.5294,\n",
              "            0.6000,  0.6000,  0.5922,  0.5922,  0.5843,  0.3569,  0.0353,\n",
              "            0.5216,  0.5686,  0.5373,  0.4039,  0.2235,  0.0824,  0.3569,\n",
              "            0.6157,  0.6157,  0.6235,  0.6314,  0.6392,  0.6392,  0.6392],\n",
              "          [ 0.6392,  0.6392,  0.6314,  0.6235,  0.5059,  0.0510,  0.2000,\n",
              "            0.5373,  0.5843,  0.5922,  0.5843,  0.5843,  0.4824,  0.0588,\n",
              "            0.1451,  0.1451,  0.0196, -0.0902, -0.0667,  0.1216,  0.4980,\n",
              "            0.6078,  0.6157,  0.6157,  0.6314,  0.6314,  0.6314,  0.6314],\n",
              "          [ 0.6392,  0.6314,  0.6314,  0.6235,  0.6157,  0.4824,  0.1922,\n",
              "            0.1686,  0.2549,  0.3176,  0.3333,  0.3882,  0.3882,  0.2471,\n",
              "            0.0196, -0.0196,  0.0039,  0.1373,  0.3647,  0.5529,  0.6000,\n",
              "            0.6078,  0.6235,  0.6235,  0.6314,  0.6314,  0.6314,  0.6392],\n",
              "          [ 0.6392,  0.6314,  0.6314,  0.6235,  0.6235,  0.6078,  0.5843,\n",
              "            0.5137,  0.4510,  0.3647,  0.3098,  0.2392,  0.3020,  0.2941,\n",
              "            0.3412,  0.4353,  0.5059,  0.5608,  0.5843,  0.6000,  0.6078,\n",
              "            0.6157,  0.6235,  0.6314,  0.6314,  0.6314,  0.6314,  0.6392],\n",
              "          [ 0.6392,  0.6392,  0.6314,  0.6314,  0.6235,  0.6235,  0.6157,\n",
              "            0.6157,  0.6000,  0.6000,  0.5922,  0.5843,  0.5843,  0.5922,\n",
              "            0.5922,  0.5922,  0.5922,  0.6078,  0.6157,  0.6235,  0.6157,\n",
              "            0.6235,  0.6314,  0.6314,  0.6314,  0.6314,  0.6314,  0.6392],\n",
              "          [ 0.6392,  0.6314,  0.6314,  0.6314,  0.6314,  0.6235,  0.6235,\n",
              "            0.6157,  0.6078,  0.6157,  0.6157,  0.6157,  0.6157,  0.6078,\n",
              "            0.6078,  0.6078,  0.6078,  0.6157,  0.6157,  0.6235,  0.6235,\n",
              "            0.6235,  0.6314,  0.6314,  0.6314,  0.6392,  0.6392,  0.6392],\n",
              "          [ 0.6392,  0.6392,  0.6392,  0.6392,  0.6392,  0.6235,  0.6235,\n",
              "            0.6314,  0.6235,  0.6235,  0.6235,  0.6157,  0.6078,  0.6157,\n",
              "            0.6235,  0.6235,  0.6235,  0.6235,  0.6235,  0.6235,  0.6314,\n",
              "            0.6314,  0.6392,  0.6392,  0.6392,  0.6392,  0.6471,  0.6471],\n",
              "          [ 0.6471,  0.6392,  0.6392,  0.6392,  0.6392,  0.6392,  0.6235,\n",
              "            0.6314,  0.6314,  0.6314,  0.6314,  0.6235,  0.6235,  0.6235,\n",
              "            0.6235,  0.6235,  0.6235,  0.6235,  0.6314,  0.6314,  0.6314,\n",
              "            0.6471,  0.6471,  0.6392,  0.6392,  0.6471,  0.6471,  0.6392],\n",
              "          [ 0.6471,  0.6392,  0.6392,  0.6471,  0.6392,  0.6392,  0.6392,\n",
              "            0.6314,  0.6314,  0.6314,  0.6314,  0.6235,  0.6235,  0.6314,\n",
              "            0.6314,  0.6314,  0.6235,  0.6314,  0.6314,  0.6314,  0.6314,\n",
              "            0.6314,  0.6392,  0.6392,  0.6392,  0.6471,  0.6471,  0.6471],\n",
              "          [ 0.6471,  0.6392,  0.6471,  0.6392,  0.6392,  0.6392,  0.6392,\n",
              "            0.6392,  0.6392,  0.6314,  0.6314,  0.6314,  0.6314,  0.6314,\n",
              "            0.6314,  0.6314,  0.6235,  0.6314,  0.6314,  0.6314,  0.6314,\n",
              "            0.6314,  0.6392,  0.6392,  0.6392,  0.6471,  0.6392,  0.6471],\n",
              "          [ 0.6471,  0.6471,  0.6392,  0.6471,  0.6471,  0.6392,  0.6392,\n",
              "            0.6392,  0.6392,  0.6314,  0.6314,  0.6314,  0.6235,  0.6314,\n",
              "            0.6314,  0.6314,  0.6392,  0.6392,  0.6314,  0.6392,  0.6314,\n",
              "            0.6314,  0.6235,  0.6314,  0.6314,  0.6471,  0.6471,  0.6471],\n",
              "          [ 0.6392,  0.6471,  0.6471,  0.6471,  0.6392,  0.6392,  0.6392,\n",
              "            0.6392,  0.6392,  0.6314,  0.6392,  0.6392,  0.6314,  0.6314,\n",
              "            0.6314,  0.6314,  0.6392,  0.6392,  0.6392,  0.6392,  0.6314,\n",
              "            0.6314,  0.6314,  0.6392,  0.6471,  0.6549,  0.6471,  0.6471],\n",
              "          [ 0.6471,  0.6471,  0.6471,  0.6392,  0.6392,  0.6392,  0.6392,\n",
              "            0.6392,  0.6392,  0.6392,  0.6392,  0.6314,  0.6314,  0.6392,\n",
              "            0.6392,  0.6314,  0.6392,  0.6392,  0.6392,  0.6392,  0.6392,\n",
              "            0.6392,  0.6471,  0.6471,  0.6392,  0.6471,  0.6471,  0.6471]]]),\n",
              " 5)"
            ]
          },
          "metadata": {
            "tags": []
          },
          "execution_count": 12
        }
      ]
    },
    {
      "cell_type": "code",
      "metadata": {
        "id": "-qrLwk1srVZR"
      },
      "source": [
        "from sklearn.utils import shuffle\r\n",
        "fullDataset = shuffle(fullDataset)"
      ],
      "execution_count": null,
      "outputs": []
    },
    {
      "cell_type": "code",
      "metadata": {
        "colab": {
          "base_uri": "https://localhost:8080/"
        },
        "id": "A_RujX47XtIm",
        "outputId": "3f67af32-582d-4095-fbb8-16bba19f1324"
      },
      "source": [
        "# split into train test sets\r\n",
        "train_dataset, test_dataset = train_test_split(fullDataset, test_size = 0.1)\r\n",
        "print(len(train_dataset))\r\n",
        "print(len(test_dataset))"
      ],
      "execution_count": null,
      "outputs": [
        {
          "output_type": "stream",
          "text": [
            "49417\n",
            "5491\n"
          ],
          "name": "stdout"
        }
      ]
    },
    {
      "cell_type": "code",
      "metadata": {
        "colab": {
          "base_uri": "https://localhost:8080/"
        },
        "id": "FMzS01Qz5vHu",
        "outputId": "ce8a1919-9f20-4dae-bc0f-a185b6423fc3"
      },
      "source": [
        "print(train_dataset[51][0].size())\r\n",
        "print(train_dataset[51][0].numpy().shape)"
      ],
      "execution_count": null,
      "outputs": [
        {
          "output_type": "stream",
          "text": [
            "torch.Size([1, 28, 28])\n",
            "(1, 28, 28)\n"
          ],
          "name": "stdout"
        }
      ]
    },
    {
      "cell_type": "code",
      "metadata": {
        "colab": {
          "base_uri": "https://localhost:8080/",
          "height": 282
        },
        "id": "2weP4HEbnnrn",
        "outputId": "b93912c7-0cd5-45e5-b6df-8f69774402e9"
      },
      "source": [
        "#plotting image\r\n",
        "show_img = fullDataset[0][0].numpy().reshape(28, 28)\r\n",
        "plt.imshow(show_img, cmap='gray')"
      ],
      "execution_count": null,
      "outputs": [
        {
          "output_type": "execute_result",
          "data": {
            "text/plain": [
              "<matplotlib.image.AxesImage at 0x7f4d32ec8be0>"
            ]
          },
          "metadata": {
            "tags": []
          },
          "execution_count": 99
        },
        {
          "output_type": "display_data",
          "data": {
            "image/png": "[encoded data removed]",
            "text/plain": [
              "<Figure size 432x288 with 1 Axes>"
            ]
          },
          "metadata": {
            "tags": [],
            "needs_background": "light"
          }
        }
      ]
    },
    {
      "cell_type": "markdown",
      "metadata": {
        "id": "sNaB_v4SiZ0R"
      },
      "source": [
        "### Setting-1  : \r\n",
        "\r\n",
        "- **totaldata:** 54908\r\n",
        "- **minibatch:** 100\r\n",
        "- **iterations:** 3,000\r\n",
        "- **epochs**\r\n",
        "  - $epochs = iterations \\div \\frac{totaldata}{minibatch} = 3000 \\div \\frac{54908}{100} = 5.46 $\r\n",
        "- **Learning rate:** 0.001\r\n",
        "- **Optimizer:** SGD"
      ]
    },
    {
      "cell_type": "code",
      "metadata": {
        "id": "2Twkzw_PPQ9c"
      },
      "source": [
        "#HYPERPERAMETERS\r\n",
        "batch_size = 100\r\n",
        "num_iters = 3000\r\n",
        "input_dim = 28*28 # num_features = 784\r\n",
        "output_dim = 10\r\n",
        "\r\n",
        "learning_rate = 0.001\r\n",
        "\r\n",
        "# Device\r\n",
        "device = torch.device(\"cuda:0\" if torch.cuda.is_available() else \"cpu\")"
      ],
      "execution_count": null,
      "outputs": []
    },
    {
      "cell_type": "code",
      "metadata": {
        "id": "ZJXbgbZ9iFnr"
      },
      "source": [
        "'''\r\n",
        "MAKING DATASET ITERABLE\r\n",
        "'''\r\n",
        "num_epochs = num_iters / (len(train_dataset) / batch_size)\r\n",
        "num_epochs = int(num_epochs)\r\n",
        "\r\n",
        "train_loader = torch.utils.data.DataLoader(dataset=train_dataset, \r\n",
        "                                           batch_size=batch_size, \r\n",
        "                                           shuffle=True)  \r\n",
        "\r\n",
        "test_loader = torch.utils.data.DataLoader(dataset=test_dataset, \r\n",
        "                                          batch_size=batch_size, \r\n",
        "                                          shuffle=False)  "
      ],
      "execution_count": null,
      "outputs": []
    },
    {
      "cell_type": "markdown",
      "metadata": {
        "id": "9Ynx9tSUgxZF"
      },
      "source": [
        "### Designing the Model using class"
      ]
    },
    {
      "cell_type": "code",
      "metadata": {
        "id": "wKcLZtR5f8PW"
      },
      "source": [
        "class LogisticRegressionModel(nn.Module):\r\n",
        "    def __init__(self, input_size, num_classes):\r\n",
        "        super().__init__()\r\n",
        "        self.linear = nn.Linear(input_size, num_classes)\r\n",
        "\r\n",
        "    def forward(self, x):\r\n",
        "        logits  = self.linear(x)\r\n",
        "        probas = F.softmax(logits, dim=1)\r\n",
        "        return logits, probas"
      ],
      "execution_count": null,
      "outputs": []
    },
    {
      "cell_type": "code",
      "metadata": {
        "colab": {
          "base_uri": "https://localhost:8080/"
        },
        "id": "81NFKdjShCr-",
        "outputId": "3bed4384-e07c-4733-c861-f9d684c40564"
      },
      "source": [
        "'''\r\n",
        "INSTANTIATE MODEL CLASS\r\n",
        "'''\r\n",
        "model = LogisticRegressionModel(input_size=input_dim,\r\n",
        "                                num_classes=output_dim)\r\n",
        "# To enable GPU\r\n",
        "model.to(device)"
      ],
      "execution_count": null,
      "outputs": [
        {
          "output_type": "execute_result",
          "data": {
            "text/plain": [
              "LogisticRegressionModel(\n",
              "  (linear): Linear(in_features=784, out_features=10, bias=True)\n",
              ")"
            ]
          },
          "metadata": {
            "tags": []
          },
          "execution_count": 103
        }
      ]
    },
    {
      "cell_type": "markdown",
      "metadata": {
        "id": "sxmiLgYThjMK"
      },
      "source": [
        "###Constructing loss and optimizer (select from PyTorch API)"
      ]
    },
    {
      "cell_type": "code",
      "metadata": {
        "id": "4PHxefQ_hpbb"
      },
      "source": [
        "# INSTANTIATE OPTIMIZER CLASS\r\n",
        "optimizer = torch.optim.SGD(model.parameters(), lr=learning_rate)"
      ],
      "execution_count": null,
      "outputs": []
    },
    {
      "cell_type": "markdown",
      "metadata": {
        "id": "XS6aE0GfhvcI"
      },
      "source": [
        "### Training: forward, loss, backward, step"
      ]
    },
    {
      "cell_type": "code",
      "metadata": {
        "colab": {
          "base_uri": "https://localhost:8080/"
        },
        "id": "1ameyx-ehs5P",
        "outputId": "b0e3dd8f-f0c0-422f-ae51-765e79cfd22f"
      },
      "source": [
        "'''\r\n",
        "TRAIN THE MODEL\r\n",
        "'''\r\n",
        "iteration_loss = []\r\n",
        "iter = 0\r\n",
        "for epoch in range(num_epochs):\r\n",
        "    for i, (images, labels) in enumerate(train_loader):\r\n",
        "\r\n",
        "        \r\n",
        "        images = images.view(-1, 28*28).to(device)\r\n",
        "        labels = labels.to(device)\r\n",
        "\r\n",
        "        # Clear gradients w.r.t. parameters\r\n",
        "        optimizer.zero_grad()\r\n",
        "\r\n",
        "        # Forward pass to get output/logits\r\n",
        "        logits, probas = model(images.float()) \r\n",
        "\r\n",
        "        # Calculate Loss: PyTorch implementation of CrossEntropyLoss works with logits, not probabilities\r\n",
        "        loss = F.cross_entropy(logits, labels)\r\n",
        "\r\n",
        "        # Getting gradients w.r.t. parameters\r\n",
        "        loss.backward()\r\n",
        "\r\n",
        "        # Updating parameters\r\n",
        "        optimizer.step()\r\n",
        "\r\n",
        "        iter += 1\r\n",
        "\r\n",
        "        if iter % 500 == 0:\r\n",
        "            # Calculate Accuracy         \r\n",
        "            correct = 0\r\n",
        "            total = 0\r\n",
        "            # Iterate through test dataset\r\n",
        "            for images, labels in test_loader:\r\n",
        "               \r\n",
        "                images = images.view(-1, 28*28).to(device)\r\n",
        "\r\n",
        "                # Forward pass only to get logits/output\r\n",
        "                logits, probas = model(images.float())\r\n",
        "\r\n",
        "                # Get predictions from the maximum value\r\n",
        "                _, predicted = torch.max(probas, 1)\r\n",
        "\r\n",
        "                # Total number of labels\r\n",
        "                total += labels.size(0)\r\n",
        "\r\n",
        "\r\n",
        "                # Total correct predictions\r\n",
        "                if torch.cuda.is_available():\r\n",
        "                    correct += (predicted.cpu() == labels.cpu()).sum() \r\n",
        "                else:\r\n",
        "                    correct += (predicted == labels).sum()\r\n",
        "\r\n",
        "            accuracy = 100 * correct.item() / total\r\n",
        "\r\n",
        "            # Print Loss\r\n",
        "            iteration_loss.append(loss.item())\r\n",
        "            print('Iteration: {}. Loss: {}. Accuracy: {}'.format(iter, loss.item(), accuracy))"
      ],
      "execution_count": null,
      "outputs": [
        {
          "output_type": "stream",
          "text": [
            "Iteration: 500. Loss: 2.2854745388031006. Accuracy: 10.872336550719359\n",
            "Iteration: 1000. Loss: 2.308067798614502. Accuracy: 11.364050264068476\n",
            "Iteration: 1500. Loss: 2.2902913093566895. Accuracy: 14.114004735020943\n",
            "Iteration: 2000. Loss: 2.267343521118164. Accuracy: 17.35567291932253\n",
            "Iteration: 2500. Loss: 2.26206111907959. Accuracy: 20.324166818430157\n"
          ],
          "name": "stdout"
        }
      ]
    },
    {
      "cell_type": "code",
      "metadata": {
        "id": "HD6aD7yviuEC",
        "colab": {
          "base_uri": "https://localhost:8080/",
          "height": 299
        },
        "outputId": "123b012e-97d8-440a-d008-130fabddc7cd"
      },
      "source": [
        "print (iteration_loss)\r\n",
        "plt.plot(iteration_loss)\r\n",
        "plt.ylabel('Cross Entropy Loss')\r\n",
        "plt.xlabel('Iteration (in every 500)')\r\n",
        "plt.show()"
      ],
      "execution_count": null,
      "outputs": [
        {
          "output_type": "stream",
          "text": [
            "[2.2854745388031006, 2.308067798614502, 2.2902913093566895, 2.267343521118164, 2.26206111907959]\n"
          ],
          "name": "stdout"
        },
        {
          "output_type": "display_data",
          "data": {
            "image/png": "[encoded data removed]",
            "text/plain": [
              "<Figure size 432x288 with 1 Axes>"
            ]
          },
          "metadata": {
            "tags": [],
            "needs_background": "light"
          }
        }
      ]
    },
    {
      "cell_type": "markdown",
      "metadata": {
        "id": "6GHp5Q-h5R5f"
      },
      "source": [
        "### Setting-2  : \r\n",
        "\r\n",
        "- **totaldata:** 54908\r\n",
        "- **minibatch:** 64\r\n",
        "- **iterations:** 3,000\r\n",
        "- **epochs**\r\n",
        "  - $epochs = iterations \\div \\frac{totaldata}{minibatch} = 3000 \\div \\frac{54908}{64} = 3.49 $\r\n",
        "- **Learning rate:** 0.002\r\n",
        "- **Optimizer:** SGD"
      ]
    },
    {
      "cell_type": "code",
      "metadata": {
        "id": "TJFtK7Me503N"
      },
      "source": [
        "#HYPERPERAMETERS\r\n",
        "batch_size = 64\r\n",
        "num_iters = 3000\r\n",
        "input_dim = 28*28 # num_features = 784\r\n",
        "output_dim = 10\r\n",
        "\r\n",
        "learning_rate = 0.002\r\n",
        "\r\n",
        "# Device\r\n",
        "device = torch.device(\"cuda:0\" if torch.cuda.is_available() else \"cpu\")"
      ],
      "execution_count": null,
      "outputs": []
    },
    {
      "cell_type": "code",
      "metadata": {
        "id": "L_oYuSYs6BWU"
      },
      "source": [
        "'''\r\n",
        "MAKING DATASET ITERABLE\r\n",
        "'''\r\n",
        "num_epochs = num_iters / (len(train_dataset) / batch_size)\r\n",
        "num_epochs = int(num_epochs)\r\n",
        "\r\n",
        "train_loader = torch.utils.data.DataLoader(dataset=train_dataset, \r\n",
        "                                           batch_size=batch_size, \r\n",
        "                                           shuffle=True)  \r\n",
        "\r\n",
        "test_loader = torch.utils.data.DataLoader(dataset=test_dataset, \r\n",
        "                                          batch_size=batch_size, \r\n",
        "                                          shuffle=False)  "
      ],
      "execution_count": null,
      "outputs": []
    },
    {
      "cell_type": "code",
      "metadata": {
        "id": "jvN8VT_DUyVD"
      },
      "source": [
        "class LogisticRegressionModel(nn.Module):\r\n",
        "    def __init__(self, input_size, num_classes):\r\n",
        "        super().__init__()\r\n",
        "        self.linear = nn.Linear(input_size, num_classes)\r\n",
        "\r\n",
        "    def forward(self, x):\r\n",
        "        logits  = self.linear(x)\r\n",
        "        probas = F.softmax(logits, dim=1)\r\n",
        "        return logits, probas"
      ],
      "execution_count": null,
      "outputs": []
    },
    {
      "cell_type": "code",
      "metadata": {
        "colab": {
          "base_uri": "https://localhost:8080/"
        },
        "id": "oeAowqh1UzdG",
        "outputId": "91984aa4-586c-41ca-8ef0-f67a7485a9fe"
      },
      "source": [
        "'''\r\n",
        "INSTANTIATE MODEL CLASS\r\n",
        "'''\r\n",
        "model = LogisticRegressionModel(input_size=input_dim,\r\n",
        "                                num_classes=output_dim)\r\n",
        "# To enable GPU\r\n",
        "model.to(device)"
      ],
      "execution_count": null,
      "outputs": [
        {
          "output_type": "execute_result",
          "data": {
            "text/plain": [
              "LogisticRegressionModel(\n",
              "  (linear): Linear(in_features=784, out_features=10, bias=True)\n",
              ")"
            ]
          },
          "metadata": {
            "tags": []
          },
          "execution_count": 110
        }
      ]
    },
    {
      "cell_type": "code",
      "metadata": {
        "id": "ngeJ7FZH6EYf"
      },
      "source": [
        "# INSTANTIATE OPTIMIZER CLASS\r\n",
        "optimizer = torch.optim.SGD(model.parameters(), lr=learning_rate)"
      ],
      "execution_count": null,
      "outputs": []
    },
    {
      "cell_type": "code",
      "metadata": {
        "colab": {
          "base_uri": "https://localhost:8080/"
        },
        "id": "U0UeIsO46Lm3",
        "outputId": "f7e54420-5385-4702-f9e3-48e853e816dd"
      },
      "source": [
        "'''\r\n",
        "TRAIN THE MODEL\r\n",
        "'''\r\n",
        "iteration_loss = []\r\n",
        "iter = 0\r\n",
        "for epoch in range(num_epochs):\r\n",
        "    for i, (images, labels) in enumerate(train_loader):\r\n",
        "\r\n",
        "        \r\n",
        "        images = images.view(-1, 28*28).to(device)\r\n",
        "        labels = labels.to(device)\r\n",
        "\r\n",
        "        # Clear gradients w.r.t. parameters\r\n",
        "        optimizer.zero_grad()\r\n",
        "\r\n",
        "        # Forward pass to get output/logits\r\n",
        "        logits, probas = model(images.float()) \r\n",
        "\r\n",
        "        # Calculate Loss: PyTorch implementation of CrossEntropyLoss works with logits, not probabilities\r\n",
        "        loss = F.cross_entropy(logits, labels)\r\n",
        "\r\n",
        "        # Getting gradients w.r.t. parameters\r\n",
        "        loss.backward()\r\n",
        "\r\n",
        "        # Updating parameters\r\n",
        "        optimizer.step()\r\n",
        "\r\n",
        "        iter += 1\r\n",
        "\r\n",
        "        if iter % 500 == 0:\r\n",
        "            # Calculate Accuracy         \r\n",
        "            correct = 0\r\n",
        "            total = 0\r\n",
        "            # Iterate through test dataset\r\n",
        "            for images, labels in test_loader:\r\n",
        "               \r\n",
        "                images = images.view(-1, 28*28).to(device)\r\n",
        "\r\n",
        "                # Forward pass only to get logits/output\r\n",
        "                logits, probas = model(images.float())\r\n",
        "\r\n",
        "                # Get predictions from the maximum value\r\n",
        "                _, predicted = torch.max(probas, 1)\r\n",
        "\r\n",
        "                # Total number of labels\r\n",
        "                total += labels.size(0)\r\n",
        "\r\n",
        "\r\n",
        "                # Total correct predictions\r\n",
        "                if torch.cuda.is_available():\r\n",
        "                    correct += (predicted.cpu() == labels.cpu()).sum() \r\n",
        "                else:\r\n",
        "                    correct += (predicted == labels).sum()\r\n",
        "\r\n",
        "            accuracy = 100 * correct.item() / total\r\n",
        "\r\n",
        "            # Print Loss\r\n",
        "            iteration_loss.append(loss.item())\r\n",
        "            print('Iteration: {}. Loss: {}. Accuracy: {}'.format(iter, loss.item(), accuracy))"
      ],
      "execution_count": null,
      "outputs": [
        {
          "output_type": "stream",
          "text": [
            "Iteration: 500. Loss: 2.270554780960083. Accuracy: 12.201784738663267\n",
            "Iteration: 1000. Loss: 2.2839810848236084. Accuracy: 18.685121107266436\n",
            "Iteration: 1500. Loss: 2.2621381282806396. Accuracy: 23.675104716809326\n",
            "Iteration: 2000. Loss: 2.2349977493286133. Accuracy: 25.53268985612821\n"
          ],
          "name": "stdout"
        }
      ]
    },
    {
      "cell_type": "code",
      "metadata": {
        "colab": {
          "base_uri": "https://localhost:8080/",
          "height": 296
        },
        "id": "3UaGS_4-7E-T",
        "outputId": "19ff387f-ebc7-4876-da7b-337135dbabe4"
      },
      "source": [
        "print (iteration_loss)\r\n",
        "plt.plot(iteration_loss)\r\n",
        "plt.ylabel('Cross Entropy Loss')\r\n",
        "plt.xlabel('Iteration (in every 500)')\r\n",
        "plt.show()"
      ],
      "execution_count": null,
      "outputs": [
        {
          "output_type": "stream",
          "text": [
            "[2.270554780960083, 2.2839810848236084, 2.2621381282806396, 2.2349977493286133]\n"
          ],
          "name": "stdout"
        },
        {
          "output_type": "display_data",
          "data": {
            "image/png": "[encoded data removed]",
            "text/plain": [
              "<Figure size 432x288 with 1 Axes>"
            ]
          },
          "metadata": {
            "tags": [],
            "needs_background": "light"
          }
        }
      ]
    },
    {
      "cell_type": "markdown",
      "metadata": {
        "id": "_w3xxQ_C6hcE"
      },
      "source": [
        "### Setting-3  : \r\n",
        "\r\n",
        "- **totaldata:** 54908\r\n",
        "- **minibatch:** 50\r\n",
        "- **iterations:** 3,000\r\n",
        "- **epochs**\r\n",
        "  - $epochs = iterations \\div \\frac{totaldata}{minibatch} = 3000 \\div \\frac{54908}{50} = 2.73 $\r\n",
        "- **Learning rate:** 0.002\r\n",
        "- **Optimizer:** SGD"
      ]
    },
    {
      "cell_type": "code",
      "metadata": {
        "id": "7jbxJ7UX65H6"
      },
      "source": [
        "#HYPERPERAMETERS\r\n",
        "batch_size = 50\r\n",
        "num_iters = 3000\r\n",
        "input_dim = 28*28 # num_features = 784\r\n",
        "output_dim = 10\r\n",
        "\r\n",
        "learning_rate = 0.002\r\n",
        "\r\n",
        "# Device\r\n",
        "device = torch.device(\"cuda:0\" if torch.cuda.is_available() else \"cpu\")"
      ],
      "execution_count": null,
      "outputs": []
    },
    {
      "cell_type": "code",
      "metadata": {
        "id": "2geKLKpo675H"
      },
      "source": [
        "'''\r\n",
        "MAKING DATASET ITERABLE\r\n",
        "'''\r\n",
        "num_epochs = num_iters / (len(train_dataset) / batch_size)\r\n",
        "num_epochs = int(num_epochs)\r\n",
        "\r\n",
        "train_loader = torch.utils.data.DataLoader(dataset=train_dataset, \r\n",
        "                                           batch_size=batch_size, \r\n",
        "                                           shuffle=True)  \r\n",
        "\r\n",
        "test_loader = torch.utils.data.DataLoader(dataset=test_dataset, \r\n",
        "                                          batch_size=batch_size, \r\n",
        "                                          shuffle=False)  "
      ],
      "execution_count": null,
      "outputs": []
    },
    {
      "cell_type": "code",
      "metadata": {
        "id": "DZR-W8RBU5Yt"
      },
      "source": [
        "class LogisticRegressionModel(nn.Module):\r\n",
        "    def __init__(self, input_size, num_classes):\r\n",
        "        super().__init__()\r\n",
        "        self.linear = nn.Linear(input_size, num_classes)\r\n",
        "\r\n",
        "    def forward(self, x):\r\n",
        "        logits  = self.linear(x)\r\n",
        "        probas = F.softmax(logits, dim=1)\r\n",
        "        return logits, probas"
      ],
      "execution_count": null,
      "outputs": []
    },
    {
      "cell_type": "code",
      "metadata": {
        "id": "A9PlgNytVE3M",
        "colab": {
          "base_uri": "https://localhost:8080/"
        },
        "outputId": "723df41d-9f9b-478e-a8f9-3772d7b56df6"
      },
      "source": [
        "'''\r\n",
        "INSTANTIATE MODEL CLASS\r\n",
        "'''\r\n",
        "model = LogisticRegressionModel(input_size=input_dim,\r\n",
        "                                num_classes=output_dim)\r\n",
        "# To enable GPU\r\n",
        "model.to(device)"
      ],
      "execution_count": null,
      "outputs": [
        {
          "output_type": "execute_result",
          "data": {
            "text/plain": [
              "LogisticRegressionModel(\n",
              "  (linear): Linear(in_features=784, out_features=10, bias=True)\n",
              ")"
            ]
          },
          "metadata": {
            "tags": []
          },
          "execution_count": 117
        }
      ]
    },
    {
      "cell_type": "code",
      "metadata": {
        "id": "JshmzxkB6-Tk"
      },
      "source": [
        "# INSTANTIATE OPTIMIZER CLASS\r\n",
        "optimizer = torch.optim.SGD(model.parameters(), lr=learning_rate)"
      ],
      "execution_count": null,
      "outputs": []
    },
    {
      "cell_type": "code",
      "metadata": {
        "colab": {
          "base_uri": "https://localhost:8080/"
        },
        "id": "BAjtwMTS7BK4",
        "outputId": "1567012f-a981-4aa1-a80c-4e8bd08ccc0b"
      },
      "source": [
        "'''\r\n",
        "TRAIN THE MODEL\r\n",
        "'''\r\n",
        "iteration_loss = []\r\n",
        "iter = 0\r\n",
        "for epoch in range(num_epochs):\r\n",
        "    for i, (images, labels) in enumerate(train_loader):\r\n",
        "\r\n",
        "        \r\n",
        "        images = images.view(-1, 28*28).to(device)\r\n",
        "        labels = labels.to(device)\r\n",
        "\r\n",
        "        # Clear gradients w.r.t. parameters\r\n",
        "        optimizer.zero_grad()\r\n",
        "\r\n",
        "        # Forward pass to get output/logits\r\n",
        "        logits, probas = model(images.float()) \r\n",
        "\r\n",
        "        # Calculate Loss: PyTorch implementation of CrossEntropyLoss works with logits, not probabilities\r\n",
        "        loss = F.cross_entropy(logits, labels)\r\n",
        "\r\n",
        "        # Getting gradients w.r.t. parameters\r\n",
        "        loss.backward()\r\n",
        "\r\n",
        "        # Updating parameters\r\n",
        "        optimizer.step()\r\n",
        "\r\n",
        "        iter += 1\r\n",
        "\r\n",
        "        if iter % 500 == 0:\r\n",
        "            # Calculate Accuracy         \r\n",
        "            correct = 0\r\n",
        "            total = 0\r\n",
        "            # Iterate through test dataset\r\n",
        "            for images, labels in test_loader:\r\n",
        "               \r\n",
        "                images = images.view(-1, 28*28).to(device)\r\n",
        "\r\n",
        "                # Forward pass only to get logits/output\r\n",
        "                logits, probas = model(images.float())\r\n",
        "\r\n",
        "                # Get predictions from the maximum value\r\n",
        "                _, predicted = torch.max(probas, 1)\r\n",
        "\r\n",
        "                # Total number of labels\r\n",
        "                total += labels.size(0)\r\n",
        "\r\n",
        "\r\n",
        "                # Total correct predictions\r\n",
        "                if torch.cuda.is_available():\r\n",
        "                    correct += (predicted.cpu() == labels.cpu()).sum() \r\n",
        "                else:\r\n",
        "                    correct += (predicted == labels).sum()\r\n",
        "\r\n",
        "            accuracy = 100 * correct.item() / total\r\n",
        "\r\n",
        "            # Print Loss\r\n",
        "            iteration_loss.append(loss.item())\r\n",
        "            print('Iteration: {}. Loss: {}. Accuracy: {}'.format(iter, loss.item(), accuracy))"
      ],
      "execution_count": null,
      "outputs": [
        {
          "output_type": "stream",
          "text": [
            "Iteration: 500. Loss: 2.2854220867156982. Accuracy: 14.696776543434712\n",
            "Iteration: 1000. Loss: 2.2641379833221436. Accuracy: 17.027863777089784\n",
            "Iteration: 1500. Loss: 2.2217295169830322. Accuracy: 25.277727189947186\n",
            "Iteration: 2000. Loss: 2.227567195892334. Accuracy: 21.87215443452923\n",
            "Iteration: 2500. Loss: 2.234297513961792. Accuracy: 30.340557275541794\n"
          ],
          "name": "stdout"
        }
      ]
    },
    {
      "cell_type": "code",
      "metadata": {
        "colab": {
          "base_uri": "https://localhost:8080/",
          "height": 296
        },
        "id": "d1iml-9F7EKf",
        "outputId": "f8e98b3e-be74-4fd5-d42e-2510913abc8e"
      },
      "source": [
        "print (iteration_loss)\r\n",
        "plt.plot(iteration_loss)\r\n",
        "plt.ylabel('Cross Entropy Loss')\r\n",
        "plt.xlabel('Iteration (in every 500)')\r\n",
        "plt.show()"
      ],
      "execution_count": null,
      "outputs": [
        {
          "output_type": "stream",
          "text": [
            "[2.2854220867156982, 2.2641379833221436, 2.2217295169830322, 2.227567195892334, 2.234297513961792]\n"
          ],
          "name": "stdout"
        },
        {
          "output_type": "display_data",
          "data": {
            "image/png": "[encoded data removed]",
            "text/plain": [
              "<Figure size 432x288 with 1 Axes>"
            ]
          },
          "metadata": {
            "tags": [],
            "needs_background": "light"
          }
        }
      ]
    },
    {
      "cell_type": "markdown",
      "metadata": {
        "id": "6j3VkfGz7nnu"
      },
      "source": [
        "### Setting-4  : \r\n",
        "\r\n",
        "- **totaldata:** 54908\r\n",
        "- **minibatch:** 256\r\n",
        "- **iterations:** 4,000\r\n",
        "- **epochs**\r\n",
        "  - $epochs = iterations \\div \\frac{totaldata}{minibatch} = 4000 \\div \\frac{54908}{256} = 18.64 $\r\n",
        "- **Learning rate:** 0.002\r\n",
        "- **Optimizer:** SGD"
      ]
    },
    {
      "cell_type": "code",
      "metadata": {
        "id": "zvdg-wXJ76T6"
      },
      "source": [
        "#HYPERPERAMETERS\r\n",
        "batch_size = 256\r\n",
        "num_iters = 4000\r\n",
        "input_dim = 28*28 # num_features = 784\r\n",
        "output_dim = 10\r\n",
        "\r\n",
        "learning_rate = 0.002\r\n",
        "\r\n",
        "# Device\r\n",
        "device = torch.device(\"cuda:0\" if torch.cuda.is_available() else \"cpu\")"
      ],
      "execution_count": null,
      "outputs": []
    },
    {
      "cell_type": "code",
      "metadata": {
        "id": "s4Ig5tsm8JM5"
      },
      "source": [
        "'''\r\n",
        "MAKING DATASET ITERABLE\r\n",
        "'''\r\n",
        "num_epochs = num_iters / (len(train_dataset) / batch_size)\r\n",
        "num_epochs = int(num_epochs)\r\n",
        "\r\n",
        "train_loader = torch.utils.data.DataLoader(dataset=train_dataset, \r\n",
        "                                           batch_size=batch_size, \r\n",
        "                                           shuffle=True)  \r\n",
        "\r\n",
        "test_loader = torch.utils.data.DataLoader(dataset=test_dataset, \r\n",
        "                                          batch_size=batch_size, \r\n",
        "                                          shuffle=False)  "
      ],
      "execution_count": null,
      "outputs": []
    },
    {
      "cell_type": "code",
      "metadata": {
        "id": "fwmP2QRwU6-q"
      },
      "source": [
        "class LogisticRegressionModel(nn.Module):\r\n",
        "    def __init__(self, input_size, num_classes):\r\n",
        "        super().__init__()\r\n",
        "        self.linear = nn.Linear(input_size, num_classes)\r\n",
        "\r\n",
        "    def forward(self, x):\r\n",
        "        logits  = self.linear(x)\r\n",
        "        probas = F.softmax(logits, dim=1)\r\n",
        "        return logits, probas"
      ],
      "execution_count": null,
      "outputs": []
    },
    {
      "cell_type": "code",
      "metadata": {
        "id": "C35hK1k2VHeR",
        "colab": {
          "base_uri": "https://localhost:8080/"
        },
        "outputId": "dab5bd31-96d8-4863-8fe7-b14d1e0c88c1"
      },
      "source": [
        "'''\r\n",
        "INSTANTIATE MODEL CLASS\r\n",
        "'''\r\n",
        "model = LogisticRegressionModel(input_size=input_dim,\r\n",
        "                                num_classes=output_dim)\r\n",
        "# To enable GPU\r\n",
        "model.to(device)"
      ],
      "execution_count": null,
      "outputs": [
        {
          "output_type": "execute_result",
          "data": {
            "text/plain": [
              "LogisticRegressionModel(\n",
              "  (linear): Linear(in_features=784, out_features=10, bias=True)\n",
              ")"
            ]
          },
          "metadata": {
            "tags": []
          },
          "execution_count": 124
        }
      ]
    },
    {
      "cell_type": "code",
      "metadata": {
        "id": "37QTodcn8Lud"
      },
      "source": [
        "# INSTANTIATE OPTIMIZER CLASS\r\n",
        "optimizer = torch.optim.SGD(model.parameters(), lr=learning_rate)"
      ],
      "execution_count": null,
      "outputs": []
    },
    {
      "cell_type": "code",
      "metadata": {
        "colab": {
          "base_uri": "https://localhost:8080/"
        },
        "id": "XANrcBhI8Oh7",
        "outputId": "64afe020-0347-4038-da07-ba40c77827dd"
      },
      "source": [
        "'''\r\n",
        "TRAIN THE MODEL\r\n",
        "'''\r\n",
        "iteration_loss = []\r\n",
        "iter = 0\r\n",
        "for epoch in range(num_epochs):\r\n",
        "    for i, (images, labels) in enumerate(train_loader):\r\n",
        "\r\n",
        "        \r\n",
        "        images = images.view(-1, 28*28).to(device)\r\n",
        "        labels = labels.to(device)\r\n",
        "\r\n",
        "        # Clear gradients w.r.t. parameters\r\n",
        "        optimizer.zero_grad()\r\n",
        "\r\n",
        "        # Forward pass to get output/logits\r\n",
        "        logits, probas = model(images.float()) \r\n",
        "\r\n",
        "        # Calculate Loss: PyTorch implementation of CrossEntropyLoss works with logits, not probabilities\r\n",
        "        loss = F.cross_entropy(logits, labels)\r\n",
        "\r\n",
        "        # Getting gradients w.r.t. parameters\r\n",
        "        loss.backward()\r\n",
        "\r\n",
        "        # Updating parameters\r\n",
        "        optimizer.step()\r\n",
        "\r\n",
        "        iter += 1\r\n",
        "\r\n",
        "        if iter % 500 == 0:\r\n",
        "            # Calculate Accuracy         \r\n",
        "            correct = 0\r\n",
        "            total = 0\r\n",
        "            # Iterate through test dataset\r\n",
        "            for images, labels in test_loader:\r\n",
        "               \r\n",
        "                images = images.view(-1, 28*28).to(device)\r\n",
        "\r\n",
        "                # Forward pass only to get logits/output\r\n",
        "                logits, probas = model(images.float())\r\n",
        "\r\n",
        "                # Get predictions from the maximum value\r\n",
        "                _, predicted = torch.max(probas, 1)\r\n",
        "\r\n",
        "                # Total number of labels\r\n",
        "                total += labels.size(0)\r\n",
        "\r\n",
        "\r\n",
        "                # Total correct predictions\r\n",
        "                if torch.cuda.is_available():\r\n",
        "                    correct += (predicted.cpu() == labels.cpu()).sum() \r\n",
        "                else:\r\n",
        "                    correct += (predicted == labels).sum()\r\n",
        "\r\n",
        "            accuracy = 100 * correct.item() / total\r\n",
        "\r\n",
        "            # Print Loss\r\n",
        "            iteration_loss.append(loss.item())\r\n",
        "            print('Iteration: {}. Loss: {}. Accuracy: {}'.format(iter, loss.item(), accuracy))"
      ],
      "execution_count": null,
      "outputs": [
        {
          "output_type": "stream",
          "text": [
            "Iteration: 500. Loss: 2.2952749729156494. Accuracy: 15.261336732835549\n",
            "Iteration: 1000. Loss: 2.262498617172241. Accuracy: 21.2529593880896\n",
            "Iteration: 1500. Loss: 2.2400166988372803. Accuracy: 28.173374613003094\n",
            "Iteration: 2000. Loss: 2.227933645248413. Accuracy: 28.319067565106536\n",
            "Iteration: 2500. Loss: 2.2162632942199707. Accuracy: 32.56237479511928\n",
            "Iteration: 3000. Loss: 2.1985559463500977. Accuracy: 33.45474412675287\n",
            "Iteration: 3500. Loss: 2.1945674419403076. Accuracy: 28.246221089054817\n"
          ],
          "name": "stdout"
        }
      ]
    },
    {
      "cell_type": "code",
      "metadata": {
        "colab": {
          "base_uri": "https://localhost:8080/",
          "height": 300
        },
        "id": "GB5NO-ct8Smc",
        "outputId": "db1b4ff6-8c77-45da-b4ef-8d0ffd94976c"
      },
      "source": [
        "print (iteration_loss)\r\n",
        "plt.plot(iteration_loss)\r\n",
        "plt.ylabel('Cross Entropy Loss')\r\n",
        "plt.xlabel('Iteration (in every 500)')\r\n",
        "plt.show()"
      ],
      "execution_count": null,
      "outputs": [
        {
          "output_type": "stream",
          "text": [
            "[2.2952749729156494, 2.262498617172241, 2.2400166988372803, 2.227933645248413, 2.2162632942199707, 2.1985559463500977, 2.1945674419403076]\n"
          ],
          "name": "stdout"
        },
        {
          "output_type": "display_data",
          "data": {
            "image/png": "[encoded data removed]",
            "text/plain": [
              "<Figure size 432x288 with 1 Axes>"
            ]
          },
          "metadata": {
            "tags": [],
            "needs_background": "light"
          }
        }
      ]
    },
    {
      "cell_type": "markdown",
      "metadata": {
        "id": "0LpiIl1j8Vgx"
      },
      "source": [
        "### Setting-5  : \r\n",
        "\r\n",
        "- **totaldata:** 54908\r\n",
        "- **minibatch:** 256\r\n",
        "- **iterations:** 4,000\r\n",
        "- **epochs**\r\n",
        "  - $epochs = iterations \\div \\frac{totaldata}{minibatch} = 4000 \\div \\frac{54908}{256} = 18.64 $\r\n",
        "- **Learning rate:** 0.005\r\n",
        "- **Optimizer:** Adamax"
      ]
    },
    {
      "cell_type": "code",
      "metadata": {
        "id": "qjRNcTCe8tz4"
      },
      "source": [
        "#HYPERPERAMETERS\r\n",
        "batch_size = 256\r\n",
        "num_iters = 4000\r\n",
        "input_dim = 28*28 # num_features = 784\r\n",
        "output_dim = 10\r\n",
        "\r\n",
        "learning_rate = 0.005\r\n",
        "\r\n",
        "# Device\r\n",
        "device = torch.device(\"cuda:0\" if torch.cuda.is_available() else \"cpu\")"
      ],
      "execution_count": null,
      "outputs": []
    },
    {
      "cell_type": "code",
      "metadata": {
        "id": "2zWP2L9P8w4m"
      },
      "source": [
        "'''\r\n",
        "MAKING DATASET ITERABLE\r\n",
        "'''\r\n",
        "num_epochs = num_iters / (len(train_dataset) / batch_size)\r\n",
        "num_epochs = int(num_epochs)\r\n",
        "\r\n",
        "train_loader = torch.utils.data.DataLoader(dataset=train_dataset, \r\n",
        "                                           batch_size=batch_size, \r\n",
        "                                           shuffle=True)  \r\n",
        "\r\n",
        "test_loader = torch.utils.data.DataLoader(dataset=test_dataset, \r\n",
        "                                          batch_size=batch_size, \r\n",
        "                                          shuffle=False)  "
      ],
      "execution_count": null,
      "outputs": []
    },
    {
      "cell_type": "code",
      "metadata": {
        "id": "ceFJAFfAU9XI"
      },
      "source": [
        "class LogisticRegressionModel(nn.Module):\r\n",
        "    def __init__(self, input_size, num_classes):\r\n",
        "        super().__init__()\r\n",
        "        self.linear = nn.Linear(input_size, num_classes)\r\n",
        "\r\n",
        "    def forward(self, x):\r\n",
        "        logits  = self.linear(x)\r\n",
        "        probas = F.softmax(logits, dim=1)\r\n",
        "        return logits, probas"
      ],
      "execution_count": null,
      "outputs": []
    },
    {
      "cell_type": "code",
      "metadata": {
        "id": "c7nYTIEgU_K8",
        "colab": {
          "base_uri": "https://localhost:8080/"
        },
        "outputId": "72073eee-fbfc-4ae5-c578-006e158c2248"
      },
      "source": [
        "'''\r\n",
        "INSTANTIATE MODEL CLASS\r\n",
        "'''\r\n",
        "model = LogisticRegressionModel(input_size=input_dim,\r\n",
        "                                num_classes=output_dim)\r\n",
        "# To enable GPU\r\n",
        "model.to(device)"
      ],
      "execution_count": null,
      "outputs": [
        {
          "output_type": "execute_result",
          "data": {
            "text/plain": [
              "LogisticRegressionModel(\n",
              "  (linear): Linear(in_features=784, out_features=10, bias=True)\n",
              ")"
            ]
          },
          "metadata": {
            "tags": []
          },
          "execution_count": 131
        }
      ]
    },
    {
      "cell_type": "code",
      "metadata": {
        "id": "LwhtIFr68ztD"
      },
      "source": [
        "# INSTANTIATE OPTIMIZER CLASS\r\n",
        "optimizer = torch.optim.Adamax(model.parameters(), lr=learning_rate)"
      ],
      "execution_count": null,
      "outputs": []
    },
    {
      "cell_type": "code",
      "metadata": {
        "colab": {
          "base_uri": "https://localhost:8080/"
        },
        "id": "m3OJT6nC838q",
        "outputId": "6b06eae3-f646-4c09-bc9f-ba59e095c80c"
      },
      "source": [
        "'''\r\n",
        "TRAIN THE MODEL\r\n",
        "'''\r\n",
        "iteration_loss = []\r\n",
        "iter = 0\r\n",
        "for epoch in range(num_epochs):\r\n",
        "    for i, (images, labels) in enumerate(train_loader):\r\n",
        "\r\n",
        "        \r\n",
        "        images = images.view(-1, 28*28).to(device)\r\n",
        "        labels = labels.to(device)\r\n",
        "\r\n",
        "        # Clear gradients w.r.t. parameters\r\n",
        "        optimizer.zero_grad()\r\n",
        "\r\n",
        "        # Forward pass to get output/logits\r\n",
        "        logits, probas = model(images.float()) \r\n",
        "\r\n",
        "        # Calculate Loss: PyTorch implementation of CrossEntropyLoss works with logits, not probabilities\r\n",
        "        loss = F.cross_entropy(logits, labels)\r\n",
        "\r\n",
        "        # Getting gradients w.r.t. parameters\r\n",
        "        loss.backward()\r\n",
        "\r\n",
        "        # Updating parameters\r\n",
        "        optimizer.step()\r\n",
        "\r\n",
        "        iter += 1\r\n",
        "\r\n",
        "        if iter % 500 == 0:\r\n",
        "            # Calculate Accuracy         \r\n",
        "            correct = 0\r\n",
        "            total = 0\r\n",
        "            # Iterate through test dataset\r\n",
        "            for images, labels in test_loader:\r\n",
        "               \r\n",
        "                images = images.view(-1, 28*28).to(device)\r\n",
        "\r\n",
        "                # Forward pass only to get logits/output\r\n",
        "                logits, probas = model(images.float())\r\n",
        "\r\n",
        "                # Get predictions from the maximum value\r\n",
        "                _, predicted = torch.max(probas, 1)\r\n",
        "\r\n",
        "                # Total number of labels\r\n",
        "                total += labels.size(0)\r\n",
        "\r\n",
        "\r\n",
        "                # Total correct predictions\r\n",
        "                if torch.cuda.is_available():\r\n",
        "                    correct += (predicted.cpu() == labels.cpu()).sum() \r\n",
        "                else:\r\n",
        "                    correct += (predicted == labels).sum()\r\n",
        "\r\n",
        "            accuracy = 100 * correct.item() / total\r\n",
        "\r\n",
        "            # Print Loss\r\n",
        "            iteration_loss.append(loss.item())\r\n",
        "            print('Iteration: {}. Loss: {}. Accuracy: {}'.format(iter, loss.item(), accuracy))"
      ],
      "execution_count": null,
      "outputs": [
        {
          "output_type": "stream",
          "text": [
            "Iteration: 500. Loss: 1.9942716360092163. Accuracy: 32.52595155709343\n",
            "Iteration: 1000. Loss: 1.978162407875061. Accuracy: 36.51429612092515\n",
            "Iteration: 1500. Loss: 1.8997671604156494. Accuracy: 38.73611364050264\n",
            "Iteration: 2000. Loss: 1.7617307901382446. Accuracy: 43.72609725004553\n",
            "Iteration: 2500. Loss: 1.907409429550171. Accuracy: 43.01584410854125\n",
            "Iteration: 3000. Loss: 1.7346657514572144. Accuracy: 44.43635039154981\n",
            "Iteration: 3500. Loss: 1.8328251838684082. Accuracy: 44.41813877253688\n"
          ],
          "name": "stdout"
        }
      ]
    },
    {
      "cell_type": "code",
      "metadata": {
        "colab": {
          "base_uri": "https://localhost:8080/",
          "height": 296
        },
        "id": "AkSte04r88Z0",
        "outputId": "d3a32e4a-3e6e-4314-a605-b635af68580d"
      },
      "source": [
        "print (iteration_loss)\r\n",
        "plt.plot(iteration_loss)\r\n",
        "plt.ylabel('Cross Entropy Loss')\r\n",
        "plt.xlabel('Iteration (in every 500)')\r\n",
        "plt.show()"
      ],
      "execution_count": null,
      "outputs": [
        {
          "output_type": "stream",
          "text": [
            "[1.9942716360092163, 1.978162407875061, 1.8997671604156494, 1.7617307901382446, 1.907409429550171, 1.7346657514572144, 1.8328251838684082]\n"
          ],
          "name": "stdout"
        },
        {
          "output_type": "display_data",
          "data": {
            "image/png": "[encoded data removed]",
            "text/plain": [
              "<Figure size 432x288 with 1 Axes>"
            ]
          },
          "metadata": {
            "tags": [],
            "needs_background": "light"
          }
        }
      ]
    }
  ]
}